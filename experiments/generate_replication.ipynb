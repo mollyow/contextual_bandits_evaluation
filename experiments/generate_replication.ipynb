{
 "cells": [
  {
   "cell_type": "code",
   "execution_count": 19,
   "metadata": {
    "collapsed": false,
    "jupyter": {
     "outputs_hidden": false
    },
    "pycharm": {
     "name": "#%%\n"
    }
   },
   "outputs": [],
   "source": [
    "import os\n",
    "from adaptive.inference import analyze, aw_scores\n",
    "from adaptive.experiment import *\n",
    "from adaptive.ridge import *\n",
    "from adaptive.datagen import *\n",
    "from adaptive.saving import *\n",
    "import random\n",
    "random.seed(60637) # check which of these we actually need for fixed state\n",
    "np.random.seed(60637)\n",
    "seed = random.randrange(99999)"
   ]
  },
  {
   "cell_type": "code",
   "execution_count": 20,
   "metadata": {
    "collapsed": false,
    "jupyter": {
     "outputs_hidden": false
    },
    "pycharm": {
     "name": "#%%\n"
    }
   },
   "outputs": [],
   "source": [
    "K = 4 # Number of arms\n",
    "p = 3 # Number of features\n",
    "T = 7000 # Sample size\n",
    "batch_sizes = [200] + [100] * 68 # Batch sizes\n",
    "signal_strength = 0.5\n",
    "config = dict(T=T, K=K, p=p, noise_form='normal', noise_std=1, noise_scale=0.5, floor_start=1/K,\n",
    "      bandit_model = 'RegionModel', floor_decay=0.8, dgp='synthetic_signal')\n",
    "\n",
    "# Collect data from environment, run experiment\n",
    "data_exp, mus = simple_tree_data(T=T, K=K, p=p, noise_std=1,\n",
    "    split=0.5, signal_strength=signal_strength, noise_form='normal', seed = seed)\n",
    "xs, ys = data_exp['xs'], data_exp['ys']\n",
    "data = run_experiment(xs, ys, config, batch_sizes=batch_sizes)\n",
    "yobs, ws, probs = data['yobs'], data['ws'], data['probs']"
   ]
  },
  {
   "cell_type": "code",
   "execution_count": 21,
   "metadata": {
    "collapsed": false,
    "jupyter": {
     "outputs_hidden": false
    },
    "pycharm": {
     "name": "#%%\n"
    }
   },
   "outputs": [],
   "source": [
    "# Estimate muhat and gammahat\n",
    "muhat = ridge_muhat_lfo_pai(xs, ws, yobs, K, batch_sizes)\n",
    "gammahat = aw_scores(yobs=yobs, ws=ws, balwts=1 / collect(collect3(probs), ws),\n",
    "                     K=K, muhat=collect3(muhat))\n",
    "optimal_mtx = expand(np.ones(T), np.argmax(data_exp['muxs'], axis=1), K)\n",
    "analysis = analyze(\n",
    "                probs=probs,\n",
    "                gammahat=gammahat,\n",
    "                policy=optimal_mtx,\n",
    "                policy_value=0.5,\n",
    "            )"
   ]
  },
  {
   "cell_type": "code",
   "execution_count": 22,
   "metadata": {
    "collapsed": false,
    "jupyter": {
     "outputs_hidden": false
    },
    "pycharm": {
     "name": "#%%\n"
    }
   },
   "outputs": [
    {
     "data": {
      "text/plain": "{'uniform': array([-0.03533519,  0.0032442 ]),\n 'propscore_expected': array([-0.09829246,  0.00317846]),\n 'propscore_X': array([0.01473497, 0.00032161]),\n 'lvdl_expected': array([-0.05495528,  0.00333831]),\n 'lvdl_X': array([0.00118862, 0.00049172])}"
     },
     "execution_count": 22,
     "metadata": {},
     "output_type": "execute_result"
    }
   ],
   "source": [
    "analysis"
   ]
  },
  {
   "cell_type": "code",
   "execution_count": 23,
   "metadata": {
    "collapsed": false,
    "jupyter": {
     "outputs_hidden": false
    },
    "pycharm": {
     "name": "#%%\n"
    }
   },
   "outputs": [
    {
     "data": {
      "text/plain": "60160"
     },
     "execution_count": 23,
     "metadata": {},
     "output_type": "execute_result"
    }
   ],
   "source": [
    "seed"
   ]
  },
  {
   "cell_type": "code",
   "execution_count": 24,
   "metadata": {
    "collapsed": false,
    "jupyter": {
     "outputs_hidden": false
    },
    "pycharm": {
     "name": "#%%\n"
    }
   },
   "outputs": [],
   "source": [
    "np.savetxt(\"results/yobs.csv\", data['yobs'], delimiter=\",\")\n",
    "np.savetxt(\"results/ws.csv\", data['ws'], delimiter=\",\")\n",
    "np.savetxt(\"results/xs.csv\", data['xs'], delimiter=\",\")\n",
    "np.savetxt(\"results/ys.csv\", data['ys'], delimiter=\",\")\n",
    "np.savetxt(\"results/muxs.csv\", data_exp['muxs'], delimiter=\",\")\n",
    "np.savetxt(\"results/muhat.csv\", collect3(muhat), delimiter=\",\")\n",
    "np.savetxt(\"results/gammahat.csv\", gammahat, delimiter=\",\")"
   ]
  },
  {
   "cell_type": "code",
   "execution_count": 25,
   "outputs": [],
   "source": [
    "np.save(\"results/probs\", probs)"
   ],
   "metadata": {
    "collapsed": false,
    "pycharm": {
     "name": "#%%\n"
    }
   }
  },
  {
   "cell_type": "code",
   "execution_count": null,
   "outputs": [],
   "source": [],
   "metadata": {
    "collapsed": false,
    "pycharm": {
     "name": "#%%\n"
    }
   }
  }
 ],
 "metadata": {
  "kernelspec": {
   "display_name": "Python 3",
   "language": "python",
   "name": "python3"
  },
  "language_info": {
   "codemirror_mode": {
    "name": "ipython",
    "version": 3
   },
   "file_extension": ".py",
   "mimetype": "text/x-python",
   "name": "python",
   "nbconvert_exporter": "python",
   "pygments_lexer": "ipython3",
   "version": "3.8.5"
  }
 },
 "nbformat": 4,
 "nbformat_minor": 4
}